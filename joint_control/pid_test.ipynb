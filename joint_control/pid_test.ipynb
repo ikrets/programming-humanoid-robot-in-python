{
 "cells": [
  {
   "cell_type": "markdown",
   "metadata": {},
   "source": [
    "# Testing PID controller\n",
    "\n",
    "This notebook shows how to test and tune PID controller. \n",
    "\n",
    "\n",
    "* The PID controller has to be implemented in [pid.py](./pid.py) first;\n",
    "* Make sure ipywidgets is enabled with command: \n",
    "    ```sh\n",
    "    jupyter nbextension enable --py widgetsnbextension\n",
    "    ```\n",
    "    read more in [ipywidgets wiki](https://github.com/jupyter-widgets/ipywidgets/blob/master/README.md#install)"
   ]
  },
  {
   "cell_type": "code",
   "execution_count": 1,
   "metadata": {},
   "outputs": [],
   "source": [
    "%matplotlib inline\n",
    "from matplotlib import pyplot as plt\n",
    "from ipywidgets import interact\n",
    "from IPython import display\n",
    "from collections import deque"
   ]
  },
  {
   "cell_type": "code",
   "execution_count": 2,
   "metadata": {},
   "outputs": [],
   "source": [
    "from pid import PIDAgent\n",
    "agent = PIDAgent()"
   ]
  },
  {
   "cell_type": "code",
   "execution_count": 3,
   "metadata": {},
   "outputs": [
    {
     "data": {
      "application/vnd.jupyter.widget-view+json": {
       "model_id": "c80b84d66078447980f1ba12b3ba1d47",
       "version_major": 2,
       "version_minor": 0
      },
      "text/plain": [
       "aW50ZXJhY3RpdmUoY2hpbGRyZW49KEludFNsaWRlcih2YWx1ZT01MCwgZGVzY3JpcHRpb249dSdrcCcpLCBGbG9hdFNsaWRlcih2YWx1ZT0wLjAsIGRlc2NyaXB0aW9uPXUna2knLCBtYXg9MS7igKY=\n"
      ]
     },
     "metadata": {},
     "output_type": "display_data"
    },
    {
     "data": {
      "application/vnd.jupyter.widget-view+json": {
       "model_id": "82ef4162ef734be8ae03c3f629228f12",
       "version_major": 2,
       "version_minor": 0
      },
      "text/plain": [
       "aW50ZXJhY3RpdmUoY2hpbGRyZW49KERyb3Bkb3duKGRlc2NyaXB0aW9uPXUnbmFtZScsIG9wdGlvbnM9KCdIZWFkWWF3JywgJ1JIaXBQaXRjaCcsICdSRWxib3dZYXcnLCAnUlNob3VsZGVyUGnigKY=\n"
      ]
     },
     "metadata": {},
     "output_type": "display_data"
    },
    {
     "data": {
      "application/vnd.jupyter.widget-view+json": {
       "model_id": "9afcb35fdca345c682b9e89a5226be90",
       "version_major": 2,
       "version_minor": 0
      },
      "text/plain": [
       "aW50ZXJhY3RpdmUoY2hpbGRyZW49KEZsb2F0U2xpZGVyKHZhbHVlPTAuMCwgZGVzY3JpcHRpb249dSd2YWx1ZScsIG1heD0xLjAsIG1pbj0tMS4wKSwgT3V0cHV0KCkpLCBfZG9tX2NsYXNzZXPigKY=\n"
      ]
     },
     "metadata": {},
     "output_type": "display_data"
    }
   ],
   "source": [
    "@interact(kp=(0, 100, 1), ki=(-1, 1, 0.1), kd=(-1, 1, 0.1), delay=(0, 5))\n",
    "def set_pid_parameters(kp, ki, kd, delay=0):\n",
    "    global agent\n",
    "    agent.joint_controller.Kp = kp\n",
    "    agent.joint_controller.Ki = ki\n",
    "    agent.joint_controller.Kd = kd\n",
    "    agent.joint_controller.set_delay(delay)\n",
    "\n",
    "joint_name = 'HeadYaw'\n",
    "sensor = deque(maxlen=300)\n",
    "target = deque(maxlen=300)\n",
    "\n",
    "@interact(name=agent.joint_names)\n",
    "def set_joint_name(name):\n",
    "    global joint_name\n",
    "    if joint_name != name:\n",
    "        joint_name = name\n",
    "        sensor.clear()\n",
    "        target.clear()\n",
    "\n",
    "@interact(value=(-1, 1, 0.1))\n",
    "def set_joint_target(value):\n",
    "    agent.target_joints[joint_name] = value"
   ]
  },
  {
   "cell_type": "code",
   "execution_count": 4,
   "metadata": {},
   "outputs": [],
   "source": [
    "# inject plotting input agent's loop\n",
    "cycle = 0\n",
    "orig_sense_think_act = agent.sense_think_act\n",
    "\n",
    "def sense_think_act():\n",
    "    global cycle\n",
    "    cycle += 1\n",
    "    orig_sense_think_act()\n",
    "    sensor.append(agent.perception.joint[joint_name])\n",
    "    target.append(agent.target_joints[joint_name])\n",
    "        \n",
    "agent.sense_think_act = sense_think_act\n",
    "agent.start()"
   ]
  },
  {
   "cell_type": "code",
   "execution_count": 8,
   "metadata": {},
   "outputs": [
    {
     "data": {
      "text/plain": [
       "<matplotlib.legend.Legend at 0x7fe5acd88b50>"
      ]
     },
     "execution_count": 8,
     "metadata": {},
     "output_type": "execute_result"
    },
    {
     "data": {
      "image/png": "[encoded data removed]",
      "text/plain": [
       "<matplotlib.figure.Figure at 0x7fe5ace85d50>"
      ]
     },
     "metadata": {
      "needs_background": "light"
     },
     "output_type": "display_data"
    }
   ],
   "source": [
    "import numpy as np\n",
    "plt.plot(sensor, label='sensor')\n",
    "plt.plot(target, label='target')\n",
    "plt.legend()"
   ]
  },
  {
   "cell_type": "code",
   "execution_count": null,
   "metadata": {},
   "outputs": [],
   "source": [
    "import numpy as np\n",
    "plt.plot(sensor, label='sensor')\n",
    "plt.plot(target, label='target')\n",
    "plt.legend()"
   ]
  },
  {
   "cell_type": "code",
   "execution_count": null,
   "metadata": {},
   "outputs": [],
   "source": [
    "from pid import wrap_angle"
   ]
  },
  {
   "cell_type": "code",
   "execution_count": null,
   "metadata": {},
   "outputs": [],
   "source": [
    "agent.perception.time"
   ]
  },
  {
   "cell_type": "code",
   "execution_count": null,
   "metadata": {},
   "outputs": [],
   "source": [
    "agent.joint_controller.y[0][7]"
   ]
  },
  {
   "cell_type": "code",
   "execution_count": null,
   "metadata": {},
   "outputs": [],
   "source": [
    "agent.joint_names.index('LShoulderRoll')"
   ]
  },
  {
   "cell_type": "code",
   "execution_count": null,
   "metadata": {},
   "outputs": [],
   "source": [
    "agent.joint_controller.u"
   ]
  },
  {
   "cell_type": "code",
   "execution_count": null,
   "metadata": {},
   "outputs": [],
   "source": [
    "agent.joint_controller.y"
   ]
  },
  {
   "cell_type": "code",
   "execution_count": null,
   "metadata": {},
   "outputs": [],
   "source": [
    "target"
   ]
  },
  {
   "cell_type": "code",
   "execution_count": null,
   "metadata": {},
   "outputs": [],
   "source": []
  }
 ],
 "metadata": {
  "kernelspec": {
   "display_name": "Python 2",
   "language": "python",
   "name": "python2"
  },
  "language_info": {
   "codemirror_mode": {
    "name": "ipython",
    "version": 2
   },
   "file_extension": ".py",
   "mimetype": "text/x-python",
   "name": "python",
   "nbconvert_exporter": "python",
   "pygments_lexer": "ipython2",
   "version": "2.7.15+"
  },
  "widgets": {
   "state": {
    "0a7b7eb6f3344aff894ea305606ce484": {
     "views": []
    },
    "0c510d10ad814822b9e75a8c68c15e5f": {
     "views": []
    },
    "11497cf7a72b486baabff56144da9a58": {
     "views": [
      {
       "cell": {
        "cell_type": "code",
        "execution_count": 3,
        "metadata": {
         "collapsed": false,
         "trusted": true
        },
        "outputs": [
         {
          "data": {
           "image/png": "iVBORw0KGgoAAAANSUhEUgAAAcAAAAEhCAYAAADoPXBUAAAABHNCSVQICAgIfAhkiAAAAAlwSFlz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\n",
           "text/plain": "<matplotlib.figure.Figure at 0x7f79806f5690>"
          },
          "metadata": {},
          "output_type": "display_data"
         }
        ],
        "source": "@interact(kp=(0, 100, 1), ki=(-1, 1, 0.1), kd=(-1, 1, 0.1), delay=(0, 5))\ndef set_pid_parameters(kp, ki, kd, delay=0):\n    global agent\n    agent.joint_controller.Kp = kp\n    agent.joint_controller.Ki = ki\n    agent.joint_controller.Kd = kd\n    agent.joint_controller.set_delay(delay)\n\njoint_name = 'HeadYaw'\nsensor = deque(maxlen=100)\ntarget = deque(maxlen=100)\n\n@interact(name=agent.joint_names)\ndef set_joint_name(name):\n    global joint_name\n    if joint_name != name:\n        joint_name = name\n        sensor.clear()\n        target.clear()\n\n@interact(value=(-1, 1, 0.1))\ndef set_joint_target(value):\n    agent.target_joints[joint_name] = value"
       },
       "cell_index": 4,
       "root": true
      }
     ]
    },
    "277dc3f8207842778ec7846d4382fa80": {
     "views": []
    },
    "32f6157ce2ab4107a0629e8bf470bdff": {
     "views": []
    },
    "397ac18f5b2d49e38a57804d5b716d79": {
     "views": []
    },
    "3e46d3cc105c49d6ab26610aa3fc5331": {
     "views": [
      {
       "cell": {
        "cell_type": "code",
        "execution_count": 3,
        "metadata": {
         "collapsed": false,
         "trusted": true
        },
        "outputs": [
         {
          "data": {
           "image/png": "iVBORw0KGgoAAAANSUhEUgAAAcAAAAEhCAYAAADoPXBUAAAABHNCSVQICAgIfAhkiAAAAAlwSFlz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\n",
           "text/plain": "<matplotlib.figure.Figure at 0x7f79806f5690>"
          },
          "metadata": {},
          "output_type": "display_data"
         }
        ],
        "source": "@interact(kp=(0, 100, 1), ki=(-1, 1, 0.1), kd=(-1, 1, 0.1), delay=(0, 5))\ndef set_pid_parameters(kp, ki, kd, delay=0):\n    global agent\n    agent.joint_controller.Kp = kp\n    agent.joint_controller.Ki = ki\n    agent.joint_controller.Kd = kd\n    agent.joint_controller.set_delay(delay)\n\njoint_name = 'HeadYaw'\nsensor = deque(maxlen=100)\ntarget = deque(maxlen=100)\n\n@interact(name=agent.joint_names)\ndef set_joint_name(name):\n    global joint_name\n    if joint_name != name:\n        joint_name = name\n        sensor.clear()\n        target.clear()\n\n@interact(value=(-1, 1, 0.1))\ndef set_joint_target(value):\n    agent.target_joints[joint_name] = value"
       },
       "cell_index": 4,
       "root": true
      }
     ]
    },
    "5c70a4179c3c4738b340b0e4974aa09c": {
     "views": []
    },
    "5e08e0a2efc04bf0a8166c2a1493c2cb": {
     "views": []
    },
    "605f8579c4ee450aa34517c2af76e263": {
     "views": []
    },
    "6f57f601f1cc4f649c9522fc4d4b3afe": {
     "views": []
    },
    "7e19a72ec8a64d9285bf12990947cc55": {
     "views": []
    },
    "892b326e4bdc4e1ea617b5037b85fdab": {
     "views": []
    },
    "c3748d55498f46eaa4e43f17c4a80700": {
     "views": []
    },
    "e5f36ad8643341529899499cc6d11458": {
     "views": [
      {
       "cell": {
        "cell_type": "code",
        "execution_count": 3,
        "metadata": {
         "collapsed": false,
         "trusted": true
        },
        "outputs": [
         {
          "data": {
           "image/png": "iVBORw0KGgoAAAANSUhEUgAAAcAAAAEhCAYAAADoPXBUAAAABHNCSVQICAgIfAhkiAAAAAlwSFlz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\n",
           "text/plain": "<matplotlib.figure.Figure at 0x7f79806f5690>"
          },
          "metadata": {},
          "output_type": "display_data"
         }
        ],
        "source": "@interact(kp=(0, 100, 1), ki=(-1, 1, 0.1), kd=(-1, 1, 0.1), delay=(0, 5))\ndef set_pid_parameters(kp, ki, kd, delay=0):\n    global agent\n    agent.joint_controller.Kp = kp\n    agent.joint_controller.Ki = ki\n    agent.joint_controller.Kd = kd\n    agent.joint_controller.set_delay(delay)\n\njoint_name = 'HeadYaw'\nsensor = deque(maxlen=100)\ntarget = deque(maxlen=100)\n\n@interact(name=agent.joint_names)\ndef set_joint_name(name):\n    global joint_name\n    if joint_name != name:\n        joint_name = name\n        sensor.clear()\n        target.clear()\n\n@interact(value=(-1, 1, 0.1))\ndef set_joint_target(value):\n    agent.target_joints[joint_name] = value"
       },
       "cell_index": 4,
       "root": true
      }
     ]
    },
    "eddac61acb6349c29d6f79597e5495b9": {
     "views": []
    },
    "f08a9c9a10484e369c16e7dd21bf094e": {
     "views": []
    },
    "f08c84d34807446589af977da8919a9a": {
     "views": []
    }
   },
   "version": "1.0.0"
  }
 },
 "nbformat": 4,
 "nbformat_minor": 2
}
